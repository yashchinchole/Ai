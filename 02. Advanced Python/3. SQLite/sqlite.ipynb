{
 "cells": [
  {
   "cell_type": "markdown",
   "metadata": {},
   "source": [
    "# SQLite\n",
    "\n",
    "❑ SQLite is a self-contained, serverless, and zero-configuration database engine.  \n",
    "❑ It is widely used for embedded database systems in mobile apps, IoT devices, and browsers.  \n",
    "❑ SQLite stores the entire database as a single file on disk, making it lightweight and portable.  \n",
    "❑ Unlike other database systems, SQLite does not require a separate server process.  \n",
    "❑ It follows the ACID (Atomicity, Consistency, Isolation, Durability) properties for reliable transactions.  \n",
    "❑ SQLite uses dynamic typing, meaning a column can store any data type.  \n",
    "❑ It supports most of the SQL standard, including SELECT, INSERT, UPDATE, DELETE, and JOIN operations.  \n",
    "❑ It supports multiple concurrent read operations but allows only one write operation at a time.  \n",
    "❑ The database file format is cross-platform, allowing data to be shared across different operating systems.  \n",
    "❑ SQLite does not support user management and access control, making it best suited for local storage needs.  \n",
    "❑ It is commonly used in Android, iOS, web browsers (such as Google Chrome), and embedded systems."
   ]
  },
  {
   "cell_type": "code",
   "execution_count": 1,
   "metadata": {},
   "outputs": [],
   "source": [
    "import sqlite3"
   ]
  },
  {
   "cell_type": "code",
   "execution_count": 2,
   "metadata": {},
   "outputs": [
    {
     "data": {
      "text/plain": [
       "<sqlite3.Connection at 0x17ebcd48400>"
      ]
     },
     "execution_count": 2,
     "metadata": {},
     "output_type": "execute_result"
    }
   ],
   "source": [
    "connection = sqlite3.connect(\"example.db\")\n",
    "connection"
   ]
  },
  {
   "cell_type": "code",
   "execution_count": 3,
   "metadata": {},
   "outputs": [],
   "source": [
    "cursor = connection.cursor()"
   ]
  },
  {
   "cell_type": "code",
   "execution_count": 4,
   "metadata": {},
   "outputs": [],
   "source": [
    "cursor.execute(\n",
    "    \"\"\"\n",
    "Create Table If Not Exists employees(\n",
    "    id Integer Primary Key,\n",
    "    name Text Not Null,\n",
    "    age Integer,\n",
    "    department text\n",
    "    )\n",
    "\"\"\"\n",
    ")\n",
    "\n",
    "connection.commit()"
   ]
  },
  {
   "cell_type": "code",
   "execution_count": 5,
   "metadata": {},
   "outputs": [
    {
     "data": {
      "text/plain": [
       "<sqlite3.Cursor at 0x17ebcf2bb40>"
      ]
     },
     "execution_count": 5,
     "metadata": {},
     "output_type": "execute_result"
    }
   ],
   "source": [
    "cursor.execute(\n",
    "    \"\"\"\n",
    "Select * from employees\n",
    "\"\"\"\n",
    ")"
   ]
  },
  {
   "cell_type": "code",
   "execution_count": 6,
   "metadata": {},
   "outputs": [],
   "source": [
    "cursor.execute(\n",
    "    \"\"\"\n",
    "Insert Into employees(name, age, department)\n",
    "    values ('Yash', 22, 'Data Scientist')\n",
    "\"\"\"\n",
    ")\n",
    "\n",
    "cursor.execute(\n",
    "    \"\"\"\n",
    "INSERT INTO employees (name, age, department)\n",
    "    VALUES ('Bob', 25, 'Engineering')\n",
    "\"\"\"\n",
    ")\n",
    "\n",
    "cursor.execute(\n",
    "    \"\"\"\n",
    "INSERT INTO employees (name, age, department)\n",
    "    VALUES ('Charlie', 35, 'Finance')\n",
    "\"\"\"\n",
    ")\n",
    "\n",
    "connection.commit()"
   ]
  },
  {
   "cell_type": "code",
   "execution_count": 7,
   "metadata": {},
   "outputs": [
    {
     "data": {
      "text/plain": [
       "<sqlite3.Cursor at 0x17ebcf2bb40>"
      ]
     },
     "execution_count": 7,
     "metadata": {},
     "output_type": "execute_result"
    }
   ],
   "source": [
    "cursor.execute(\"Select * from employees\")"
   ]
  },
  {
   "cell_type": "code",
   "execution_count": 8,
   "metadata": {},
   "outputs": [
    {
     "name": "stdout",
     "output_type": "stream",
     "text": [
      "(1, 'Yash', 21, 'Data Scientist')\n",
      "(3, 'Charlie', 35, 'Finance')\n",
      "(4, 'Yash', 21, 'Data Scientist')\n",
      "(6, 'Charlie', 35, 'Finance')\n",
      "(7, 'Yash', 21, 'Data Scientist')\n",
      "(9, 'Charlie', 35, 'Finance')\n",
      "(10, 'Yash', 22, 'Data Scientist')\n",
      "(11, 'Bob', 25, 'Engineering')\n",
      "(12, 'Charlie', 35, 'Finance')\n"
     ]
    }
   ],
   "source": [
    "rows = cursor.fetchall()\n",
    "\n",
    "for row in rows:\n",
    "    print(row)"
   ]
  },
  {
   "cell_type": "code",
   "execution_count": 9,
   "metadata": {},
   "outputs": [],
   "source": [
    "cursor.execute(\n",
    "    \"\"\"\n",
    "UPDATE employees\n",
    "Set age = 21\n",
    "where name = \"Yash\"\n",
    "\"\"\"\n",
    ")\n",
    "\n",
    "connection.commit()"
   ]
  },
  {
   "cell_type": "code",
   "execution_count": 10,
   "metadata": {},
   "outputs": [
    {
     "name": "stdout",
     "output_type": "stream",
     "text": [
      "(1, 'Yash', 21, 'Data Scientist')\n",
      "(3, 'Charlie', 35, 'Finance')\n",
      "(4, 'Yash', 21, 'Data Scientist')\n",
      "(6, 'Charlie', 35, 'Finance')\n",
      "(7, 'Yash', 21, 'Data Scientist')\n",
      "(9, 'Charlie', 35, 'Finance')\n",
      "(10, 'Yash', 21, 'Data Scientist')\n",
      "(11, 'Bob', 25, 'Engineering')\n",
      "(12, 'Charlie', 35, 'Finance')\n"
     ]
    }
   ],
   "source": [
    "cursor.execute(\"Select * from employees\")\n",
    "rows = cursor.fetchall()\n",
    "\n",
    "\n",
    "for row in rows:\n",
    "    print(row)"
   ]
  },
  {
   "cell_type": "code",
   "execution_count": 11,
   "metadata": {},
   "outputs": [],
   "source": [
    "cursor.execute(\n",
    "    \"\"\"\n",
    "Delete from employees\n",
    "    where name ='Bob'\n",
    "\"\"\"\n",
    ")\n",
    "\n",
    "connection.commit()"
   ]
  },
  {
   "cell_type": "code",
   "execution_count": 12,
   "metadata": {},
   "outputs": [
    {
     "name": "stdout",
     "output_type": "stream",
     "text": [
      "(1, 'Yash', 21, 'Data Scientist')\n",
      "(3, 'Charlie', 35, 'Finance')\n",
      "(4, 'Yash', 21, 'Data Scientist')\n",
      "(6, 'Charlie', 35, 'Finance')\n",
      "(7, 'Yash', 21, 'Data Scientist')\n",
      "(9, 'Charlie', 35, 'Finance')\n",
      "(10, 'Yash', 21, 'Data Scientist')\n",
      "(12, 'Charlie', 35, 'Finance')\n"
     ]
    }
   ],
   "source": [
    "cursor.execute(\"Select * from employees\")\n",
    "rows = cursor.fetchall()\n",
    "\n",
    "\n",
    "for row in rows:\n",
    "    print(row)"
   ]
  },
  {
   "cell_type": "code",
   "execution_count": 13,
   "metadata": {},
   "outputs": [],
   "source": [
    "connection = sqlite3.connect(\"sales_data.db\")\n",
    "cursor = connection.cursor()\n",
    "\n",
    "cursor.execute(\n",
    "    \"\"\"\n",
    "CREATE TABLE IF NOT EXISTS sales (\n",
    "    id INTEGER PRIMARY KEY,\n",
    "    date TEXT NOT NULL,\n",
    "    product TEXT NOT NULL,\n",
    "    sales INTEGER,\n",
    "    region TEXT\n",
    ")\n",
    "\"\"\"\n",
    ")\n",
    "\n",
    "sales_data = [\n",
    "    (\"2023-01-01\", \"Product1\", 100, \"North\"),\n",
    "    (\"2023-01-02\", \"Product2\", 200, \"South\"),\n",
    "    (\"2023-01-03\", \"Product1\", 150, \"East\"),\n",
    "    (\"2023-01-04\", \"Product3\", 250, \"West\"),\n",
    "    (\"2023-01-05\", \"Product2\", 300, \"North\"),\n",
    "]\n",
    "\n",
    "cursor.executemany(\n",
    "    \"\"\"\n",
    "Insert into sales(date,product,sales,region)\n",
    "    values(?,?,?,?)\n",
    "\"\"\",\n",
    "    sales_data,\n",
    ")\n",
    "\n",
    "connection.commit()"
   ]
  },
  {
   "cell_type": "code",
   "execution_count": 14,
   "metadata": {},
   "outputs": [
    {
     "name": "stdout",
     "output_type": "stream",
     "text": [
      "(1, '2023-01-01', 'Product1', 100, 'North')\n",
      "(2, '2023-01-02', 'Product2', 200, 'South')\n",
      "(3, '2023-01-03', 'Product1', 150, 'East')\n",
      "(4, '2023-01-04', 'Product3', 250, 'West')\n",
      "(5, '2023-01-05', 'Product2', 300, 'North')\n",
      "(6, '2023-01-01', 'Product1', 100, 'North')\n",
      "(7, '2023-01-02', 'Product2', 200, 'South')\n",
      "(8, '2023-01-03', 'Product1', 150, 'East')\n",
      "(9, '2023-01-04', 'Product3', 250, 'West')\n",
      "(10, '2023-01-05', 'Product2', 300, 'North')\n",
      "(11, '2023-01-01', 'Product1', 100, 'North')\n",
      "(12, '2023-01-02', 'Product2', 200, 'South')\n",
      "(13, '2023-01-03', 'Product1', 150, 'East')\n",
      "(14, '2023-01-04', 'Product3', 250, 'West')\n",
      "(15, '2023-01-05', 'Product2', 300, 'North')\n",
      "(16, '2023-01-01', 'Product1', 100, 'North')\n",
      "(17, '2023-01-02', 'Product2', 200, 'South')\n",
      "(18, '2023-01-03', 'Product1', 150, 'East')\n",
      "(19, '2023-01-04', 'Product3', 250, 'West')\n",
      "(20, '2023-01-05', 'Product2', 300, 'North')\n"
     ]
    }
   ],
   "source": [
    "cursor.execute(\"SELECT * FROM sales\")\n",
    "rows = cursor.fetchall()\n",
    "\n",
    "for row in rows:\n",
    "    print(row)"
   ]
  },
  {
   "cell_type": "code",
   "execution_count": 15,
   "metadata": {},
   "outputs": [],
   "source": [
    "connection.close()"
   ]
  }
 ],
 "metadata": {
  "kernelspec": {
   "display_name": "Python 3",
   "language": "python",
   "name": "python3"
  },
  "language_info": {
   "codemirror_mode": {
    "name": "ipython",
    "version": 3
   },
   "file_extension": ".py",
   "mimetype": "text/x-python",
   "name": "python",
   "nbconvert_exporter": "python",
   "pygments_lexer": "ipython3",
   "version": "3.13.0"
  }
 },
 "nbformat": 4,
 "nbformat_minor": 2
}
