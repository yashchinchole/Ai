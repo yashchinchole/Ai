{
 "cells": [
  {
   "cell_type": "markdown",
   "metadata": {},
   "source": [
    "# Python Logging  \n",
    "\n",
    "❑ Introduction to Python Logging: Python's logging module provides a built-in way to handle logging, allowing developers to track events, errors, and operational details efficiently.  \n",
    "❑ Configuring Logging: The logging module can be configured using basicConfig() to set the format, level, and output destination of logs.  \n",
    "❑ Log Levels: Python logging provides five levels of severity: DEBUG, INFO, WARNING, ERROR, and CRITICAL, each serving a specific purpose.  \n",
    "❑ Logging to Files: Logs can be directed to files using logging.FileHandler, ensuring persistent storage of logs for debugging and monitoring.  \n",
    "❑ Using Loggers, Handlers, and Formatters: The Logger object is used to create logs, Handlers define where logs go (console, file, etc.), and Formatters define log message structure.  \n",
    "❑ Exception Logging: Using logger.exception() inside try-except blocks captures and logs stack traces when an exception occurs.  \n",
    "❑ Best Practices: Use log levels appropriately, avoid excessive logging, configure logs centrally, use timestamps, and ensure sensitive information is not logged.  "
   ]
  },
  {
   "cell_type": "code",
   "execution_count": 1,
   "metadata": {},
   "outputs": [],
   "source": [
    "# import logging\n",
    "\n",
    "# logging.basicConfig(level=logging.DEBUG)\n",
    "\n",
    "# logging.debug(\"This is a debug message\")\n",
    "# logging.info(\"This is an info message\")\n",
    "# logging.warning(\"This is a warning message\")\n",
    "# logging.error(\"This is an error message\")\n",
    "# logging.critical(\"This is a critical message\")"
   ]
  },
  {
   "cell_type": "markdown",
   "metadata": {},
   "source": [
    "## Log Levels  \n",
    "\n",
    "❑ DEBUG: Detailed information, typically of interest only when diagnosing problems.  \n",
    "❑ INFO: Confirmation that things are working as expected.  \n",
    "❑ WARNING: An indication that something unexpected happened or indicative of some problem in the near future (e.g., ‘disk space low’). The software is still working as expected.  \n",
    "❑ ERROR: Due to a more serious problem, the software has not been able to perform some function.  \n",
    "❑ CRITICAL: A very serious error, indicating that the program itself may be unable to continue running.  "
   ]
  },
  {
   "cell_type": "code",
   "execution_count": 2,
   "metadata": {},
   "outputs": [],
   "source": [
    "import logging\n",
    "\n",
    "logging.basicConfig(\n",
    "    filename=\"app.log\",\n",
    "    filemode=\"w\",\n",
    "    level=logging.DEBUG,\n",
    "    format=\"%(asctime)s-%(name)s-%(levelname)s-%(message)s\",\n",
    "    datefmt=\"%Y-%m-%d %H:%M:%S\",\n",
    ")\n",
    "\n",
    "logging.debug(\"This is a debug message\")\n",
    "logging.info(\"This is an info message\")\n",
    "logging.warning(\"This is a warning message\")\n",
    "logging.error(\"This is an error message\")\n",
    "logging.critical(\"This is a critical message\")"
   ]
  },
  {
   "cell_type": "code",
   "execution_count": 3,
   "metadata": {},
   "outputs": [],
   "source": [
    "import logging\n",
    "\n",
    "logger1 = logging.getLogger(\"module1\")\n",
    "logger1.setLevel(logging.DEBUG)\n",
    "\n",
    "\n",
    "logger2 = logging.getLogger(\"module2\")\n",
    "logger2.setLevel(logging.WARNING)\n",
    "\n",
    "logging.basicConfig(\n",
    "    level=logging.DEBUG,\n",
    "    format=\"%(asctime)s - %(name)s - %(levelname)s - %(message)s\",\n",
    "    datefmt=\"%Y-%m-%d %H:%M:%S\",\n",
    ")"
   ]
  },
  {
   "cell_type": "code",
   "execution_count": 4,
   "metadata": {},
   "outputs": [],
   "source": [
    "logger1.debug(\"This is debug message for module1\")\n",
    "logger2.warning(\"This is a warning message for module 2\")\n",
    "logger2.error(\"This is an error message\")"
   ]
  }
 ],
 "metadata": {
  "kernelspec": {
   "display_name": "Python 3",
   "language": "python",
   "name": "python3"
  },
  "language_info": {
   "codemirror_mode": {
    "name": "ipython",
    "version": 3
   },
   "file_extension": ".py",
   "mimetype": "text/x-python",
   "name": "python",
   "nbconvert_exporter": "python",
   "pygments_lexer": "ipython3",
   "version": "3.13.0"
  }
 },
 "nbformat": 4,
 "nbformat_minor": 2
}
