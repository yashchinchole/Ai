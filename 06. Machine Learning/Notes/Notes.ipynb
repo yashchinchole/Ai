{
 "cells": [
  {
   "cell_type": "markdown",
   "id": "720e6a89",
   "metadata": {},
   "source": [
    "🧠 **Explanation**  \n",
    "We use `fit_transform()` on the training data because we want the scaler to learn the **mean and standard deviation** only from the **training set**. This captures the **distribution** that the model was trained on.\n",
    "\n",
    "Then, we use `transform()` on the test data to apply the **same scaling** (using the training set's stats) — this ensures that the test data is brought to the same scale **without leaking information** from the test set into the training process.\n",
    "\n",
    "Fitting the scaler again on the test set would **expose the model to unseen data**, leading to **data leakage** and **unreliable evaluation results**."
   ]
  },
  {
   "cell_type": "code",
   "execution_count": null,
   "id": "e55473bf",
   "metadata": {},
   "outputs": [],
   "source": [
    "from sklearn.model_selection import train_test_split\n",
    "\n",
    "X_train, X_test, y_train, y_test = train_test_split(\n",
    "    X, y, test_size=0.2, random_state=42\n",
    ")\n",
    "\n",
    "from sklearn.preprocessing import StandardScaler\n",
    "\n",
    "scaler = StandardScaler()\n",
    "X_train_scaled = scaler.fit_transform(\n",
    "    X_train\n",
    ")  # Fit the scaler on training data and then transform it\n",
    "X_test_scaled = scaler.transform(\n",
    "    X_test\n",
    ")  # Only transform test data using the same scaler (do NOT fit again)"
   ]
  }
 ],
 "metadata": {
  "kernelspec": {
   "display_name": "Python 3",
   "language": "python",
   "name": "python3"
  },
  "language_info": {
   "name": "python",
   "version": "3.13.0"
  }
 },
 "nbformat": 4,
 "nbformat_minor": 5
}
