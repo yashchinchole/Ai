{
 "cells": [
  {
   "cell_type": "markdown",
   "id": "1175ca8d",
   "metadata": {},
   "source": [
    "# Machine Learning"
   ]
  },
  {
   "cell_type": "markdown",
   "id": "cfaa3706",
   "metadata": {},
   "source": [
    "## Supervised Learning"
   ]
  },
  {
   "cell_type": "markdown",
   "id": "8c464cff",
   "metadata": {},
   "source": [
    "### Classification"
   ]
  },
  {
   "cell_type": "markdown",
   "id": "f07f2719",
   "metadata": {},
   "source": [
    "#### Logistic Regression\n",
    "❑ Used for binary and multi-class classification problems.\n",
    "\n",
    "❑ Predicts categorical outcomes based on input features.\n",
    "\n",
    "❑ The output variable must be categorical."
   ]
  },
  {
   "cell_type": "markdown",
   "id": "b05f9868",
   "metadata": {},
   "source": [
    "#### Decision Trees\n",
    "❑ A tree-like model that splits data into decision nodes based on feature values.\n",
    "\n",
    "❑ Can be used for both classification and regression tasks."
   ]
  },
  {
   "cell_type": "markdown",
   "id": "29082dbc",
   "metadata": {},
   "source": [
    "#### Random Forests\n",
    "❑ An ensemble learning method that builds multiple decision trees and averages their results.\n",
    "\n",
    "❑ Improves accuracy and reduces overfitting."
   ]
  },
  {
   "cell_type": "markdown",
   "id": "720182aa",
   "metadata": {},
   "source": [
    "#### Support Vector Machines (SVM)\n",
    "❑ A classification algorithm that finds the optimal hyperplane to separate different classes.\n",
    "\n",
    "❑ Works well for both linear and non-linear data."
   ]
  },
  {
   "cell_type": "markdown",
   "id": "0a74d04e",
   "metadata": {},
   "source": [
    "### Regression"
   ]
  },
  {
   "cell_type": "markdown",
   "id": "0766ce77",
   "metadata": {},
   "source": [
    "#### Linear Regression\n",
    "❑ A simple technique to model the relationship between a dependent variable and one or more independent variables using a straight line.\n",
    "\n",
    "❑ It predicts outcomes by minimizing the difference between actual and predicted values.\n",
    "\n",
    "❑ The output (dependent) variable must be numerical, as regression predicts continuous values."
   ]
  },
  {
   "cell_type": "markdown",
   "id": "a495fcca",
   "metadata": {},
   "source": [
    "#### Polynomial Regression\n",
    "❑ An extension of linear regression that fits a polynomial equation to the data.\n",
    "\n",
    "❑ Useful for modeling non-linear relationships."
   ]
  },
  {
   "cell_type": "markdown",
   "id": "4fa02e6c",
   "metadata": {},
   "source": [
    "#### Ridge Regression\n",
    "❑ A variant of linear regression that adds a regularization term to reduce overfitting.\n",
    "\n",
    "❑ Helps prevent large coefficients in the model."
   ]
  },
  {
   "cell_type": "markdown",
   "id": "3faf29b9",
   "metadata": {},
   "source": [
    "#### Lasso Regression\n",
    "❑ A type of regression that adds L1 regularization, shrinking some coefficients to zero.\n",
    "\n",
    "❑ Useful for feature selection."
   ]
  },
  {
   "cell_type": "markdown",
   "id": "ba0ebc3d",
   "metadata": {},
   "source": [
    "#### Elastic Net\n",
    "❑ A combination of Ridge and Lasso regression that balances regularization effects.\n",
    "\n",
    "❑ Helps when features are highly correlated."
   ]
  }
 ],
 "metadata": {
  "language_info": {
   "name": "python"
  }
 },
 "nbformat": 4,
 "nbformat_minor": 5
}
